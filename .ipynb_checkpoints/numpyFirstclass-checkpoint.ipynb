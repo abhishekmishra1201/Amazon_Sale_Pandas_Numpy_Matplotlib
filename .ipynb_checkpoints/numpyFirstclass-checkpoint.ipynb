{
 "cells": [
  {
   "cell_type": "code",
   "execution_count": 1,
   "id": "d0645987-a7b3-4cdf-aa43-f0f646f7a0a5",
   "metadata": {},
   "outputs": [
    {
     "name": "stdout",
     "output_type": "stream",
     "text": [
      "hello\n"
     ]
    }
   ],
   "source": [
    "print(\"hello\")"
   ]
  },
  {
   "cell_type": "code",
   "execution_count": 2,
   "id": "8398e2f8-f8af-42a6-8469-1763642ff59d",
   "metadata": {},
   "outputs": [
    {
     "ename": "NameError",
     "evalue": "name 'numpy' is not defined",
     "output_type": "error",
     "traceback": [
      "\u001b[1;31m---------------------------------------------------------------------------\u001b[0m",
      "\u001b[1;31mNameError\u001b[0m                                 Traceback (most recent call last)",
      "Cell \u001b[1;32mIn[2], line 1\u001b[0m\n\u001b[1;32m----> 1\u001b[0m arr\u001b[38;5;241m=\u001b[39m \u001b[43mnumpy\u001b[49m ([\u001b[38;5;241m10\u001b[39m,\u001b[38;5;241m20\u001b[39m])\n\u001b[0;32m      2\u001b[0m \u001b[38;5;28mprint\u001b[39m(arr)\n",
      "\u001b[1;31mNameError\u001b[0m: name 'numpy' is not defined"
     ]
    }
   ],
   "source": [
    "arr= numpy ([10,20])\n",
    "print(arr)"
   ]
  },
  {
   "cell_type": "code",
   "execution_count": 3,
   "id": "72de4286-9b3c-466b-91f9-40ec6dc916ee",
   "metadata": {},
   "outputs": [
    {
     "ename": "NameError",
     "evalue": "name 'numpy' is not defined",
     "output_type": "error",
     "traceback": [
      "\u001b[1;31m---------------------------------------------------------------------------\u001b[0m",
      "\u001b[1;31mNameError\u001b[0m                                 Traceback (most recent call last)",
      "Cell \u001b[1;32mIn[3], line 1\u001b[0m\n\u001b[1;32m----> 1\u001b[0m arr\u001b[38;5;241m=\u001b[39m \u001b[43mnumpy\u001b[49m,array ([\u001b[38;5;241m10\u001b[39m,\u001b[38;5;241m20\u001b[39m])\n\u001b[0;32m      2\u001b[0m \u001b[38;5;28mprint\u001b[39m(arr)\n",
      "\u001b[1;31mNameError\u001b[0m: name 'numpy' is not defined"
     ]
    }
   ],
   "source": [
    "arr= numpy,array ([10,20])\n",
    "print(arr)"
   ]
  },
  {
   "cell_type": "code",
   "execution_count": 5,
   "id": "7c91342e-b301-4bb5-8f9e-9bf5692b7d9c",
   "metadata": {},
   "outputs": [
    {
     "name": "stdout",
     "output_type": "stream",
     "text": [
      "[10 20]\n",
      "<class 'numpy.ndarray'>\n"
     ]
    }
   ],
   "source": [
    "import numpy\n",
    "arr= numpy.array ([10,20])\n",
    "print(arr)\n",
    "print(type(arr))"
   ]
  },
  {
   "cell_type": "code",
   "execution_count": 6,
   "id": "299ff9e6-f728-41a0-91b4-8a4e9cf6f7ea",
   "metadata": {},
   "outputs": [
    {
     "name": "stdout",
     "output_type": "stream",
     "text": [
      "[[10 20]\n",
      " [30 40]]\n",
      "<class 'numpy.ndarray'>\n"
     ]
    }
   ],
   "source": [
    "import numpy\n",
    "arr= numpy.array ([[10,20],[30,40]])\n",
    "print(arr)\n",
    "print(type(arr))"
   ]
  },
  {
   "cell_type": "code",
   "execution_count": 7,
   "id": "72b5ff83-cba4-47c9-8ab1-61c1d4101a85",
   "metadata": {},
   "outputs": [
    {
     "name": "stdout",
     "output_type": "stream",
     "text": [
      "[10 20 30 40 50]\n"
     ]
    }
   ],
   "source": [
    "import numpy\n",
    "arr= numpy.array ([10,20,30,40,50])\n",
    "print(arr[0:])\n"
   ]
  },
  {
   "cell_type": "code",
   "execution_count": 8,
   "id": "37402b47-97a7-414b-8920-6e05c608fe56",
   "metadata": {},
   "outputs": [
    {
     "name": "stdout",
     "output_type": "stream",
     "text": [
      "[20 30]\n"
     ]
    }
   ],
   "source": [
    "import numpy\n",
    "arr= numpy.array ([10,20,30,40,50])\n",
    "print(arr[1:3])"
   ]
  },
  {
   "cell_type": "code",
   "execution_count": 9,
   "id": "eb0de6e4-a66d-42a6-8a8e-77f744407c9c",
   "metadata": {},
   "outputs": [
    {
     "ename": "SyntaxError",
     "evalue": "invalid syntax (1879336345.py, line 3)",
     "output_type": "error",
     "traceback": [
      "\u001b[1;36m  Cell \u001b[1;32mIn[9], line 3\u001b[1;36m\u001b[0m\n\u001b[1;33m    print(arr[0:2],[0:1])\u001b[0m\n\u001b[1;37m                     ^\u001b[0m\n\u001b[1;31mSyntaxError\u001b[0m\u001b[1;31m:\u001b[0m invalid syntax\n"
     ]
    }
   ],
   "source": [
    "import numpy\n",
    "arr= numpy.array ([[10,20],[30,40]])\n",
    "print(arr[0:2],[0:1])"
   ]
  },
  {
   "cell_type": "code",
   "execution_count": 10,
   "id": "6fa9a477-f8d7-4084-8d9c-c2f69df6c2ec",
   "metadata": {},
   "outputs": [
    {
     "ename": "SyntaxError",
     "evalue": "invalid syntax (2531215091.py, line 3)",
     "output_type": "error",
     "traceback": [
      "\u001b[1;36m  Cell \u001b[1;32mIn[10], line 3\u001b[1;36m\u001b[0m\n\u001b[1;33m    print(arr[0:1],[0:1])\u001b[0m\n\u001b[1;37m                     ^\u001b[0m\n\u001b[1;31mSyntaxError\u001b[0m\u001b[1;31m:\u001b[0m invalid syntax\n"
     ]
    }
   ],
   "source": [
    "import numpy\n",
    "arr= numpy.array ([[10,20],[30,40]])\n",
    "print(arr[0:1],[0:1])"
   ]
  },
  {
   "cell_type": "code",
   "execution_count": 12,
   "id": "0f26825a-105e-4cb4-af23-e444473675b1",
   "metadata": {},
   "outputs": [
    {
     "name": "stdout",
     "output_type": "stream",
     "text": [
      "[[10 20]\n",
      " [30 40]]\n"
     ]
    }
   ],
   "source": [
    "import numpy\n",
    "arr= numpy.array ([[10,20],[30,40]])\n",
    "print(arr[0:2 , 0:2])"
   ]
  },
  {
   "cell_type": "code",
   "execution_count": 14,
   "id": "9945c0b6-d86a-4fcd-b472-6c939ee152de",
   "metadata": {},
   "outputs": [
    {
     "name": "stdout",
     "output_type": "stream",
     "text": [
      "[30]\n"
     ]
    }
   ],
   "source": [
    "import numpy\n",
    "arr= numpy.array ([[10,20],[30,40]])\n",
    "print(arr[1,:1 ])"
   ]
  },
  {
   "cell_type": "code",
   "execution_count": 20,
   "id": "e425bae8-4b7b-4c99-b576-ec28defbc322",
   "metadata": {},
   "outputs": [
    {
     "name": "stdout",
     "output_type": "stream",
     "text": [
      "[[10 20]\n",
      " [30 40]]\n",
      "(4, 4)\n",
      "16\n",
      "int64\n"
     ]
    }
   ],
   "source": [
    "import numpy\n",
    "arr= numpy.array ([[10,20,30,40],[30,40,50,60],[10,20,30,40],[30,40,50,60]])\n",
    "print(arr[0:2 , 0:2])\n",
    "print(numpy.shape(arr))\n",
    "print(numpy.size(arr))\n",
    "print(arr.dtype)"
   ]
  },
  {
   "cell_type": "code",
   "execution_count": 26,
   "id": "1213aa59-4f32-443f-a2c7-f010a6662d34",
   "metadata": {},
   "outputs": [
    {
     "name": "stdout",
     "output_type": "stream",
     "text": [
      "[30 40 52 96]\n",
      "(4,)\n",
      "4\n",
      "(4,)\n",
      "<class 'numpy.ndarray'>\n",
      "int64\n",
      "['30' '40' '52' '96']\n",
      "int64\n"
     ]
    }
   ],
   "source": [
    "import numpy as np\n",
    "\n",
    "a = [30,40,52,96]\n",
    "arr = np.array(a)\n",
    "print(arr)\n",
    "print(arr.shape)\n",
    "print(len(arr))\n",
    "print(np.shape(arr))\n",
    "print(type(arr))\n",
    "print(arr.dtype)\n",
    "print(arr.astype(str))\n",
    "print(arr.dtype)"
   ]
  },
  {
   "cell_type": "code",
   "execution_count": 30,
   "id": "92cc6249-2547-41c2-8f6b-89725ee166b3",
   "metadata": {},
   "outputs": [
    {
     "name": "stdout",
     "output_type": "stream",
     "text": [
      "[60 60 70 40 30]\n",
      "[60 60 70 40 30]\n"
     ]
    }
   ],
   "source": [
    "import numpy as np\n",
    "\n",
    "arr = np.array([30,40,60,20,10])\n",
    "arr1 = np.array([30,20,10,20,20])\n",
    "print(arr+arr1)\n",
    "\n",
    "print(np.add(arr,arr1))"
   ]
  },
  {
   "cell_type": "code",
   "execution_count": 32,
   "id": "bef3b326-3122-4a5a-82cb-e8c8faa19d07",
   "metadata": {},
   "outputs": [
    {
     "name": "stdout",
     "output_type": "stream",
     "text": [
      "[[60 60]\n",
      " [70 30]]\n",
      "[[60 60]\n",
      " [70 30]]\n"
     ]
    }
   ],
   "source": [
    "import numpy as np\n",
    "\n",
    "arr = np.array([[30,40],[60,10]])\n",
    "arr1 = np.array([[30,20],[10,20]])\n",
    "print(arr+arr1)\n",
    "\n",
    "print(np.add(arr,arr1))"
   ]
  },
  {
   "cell_type": "code",
   "execution_count": 33,
   "id": "ceb3691d-990a-4a0b-a35d-c4a45a585088",
   "metadata": {},
   "outputs": [
    {
     "name": "stdout",
     "output_type": "stream",
     "text": [
      "[[60 60]\n",
      " [70 30]]\n",
      "[[  0  20]\n",
      " [ 50 -10]]\n"
     ]
    }
   ],
   "source": [
    "import numpy as np\n",
    "\n",
    "arr = np.array([[30,40],[60,10]])\n",
    "arr1 = np.array([[30,20],[10,20]])\n",
    "print(arr+arr1)\n",
    "\n",
    "print(np.subtract(arr,arr1))"
   ]
  },
  {
   "cell_type": "code",
   "execution_count": 35,
   "id": "162b20e5-b3a9-4573-8dbc-b9b2d4f78ec6",
   "metadata": {},
   "outputs": [
    {
     "name": "stdout",
     "output_type": "stream",
     "text": [
      "[[60 60]\n",
      " [70 30]]\n",
      "[[1.  2. ]\n",
      " [6.  0.5]]\n"
     ]
    }
   ],
   "source": [
    "import numpy as np\n",
    "\n",
    "arr = np.array([[30,40],[60,10]])\n",
    "arr1 = np.array([[30,20],[10,20]])\n",
    "print(arr+arr1)\n",
    "\n",
    "print(np.divide(arr,arr1))"
   ]
  },
  {
   "cell_type": "code",
   "execution_count": 37,
   "id": "b2aeb1b8-0f73-4f7e-b691-d726dc5aab86",
   "metadata": {},
   "outputs": [
    {
     "name": "stdout",
     "output_type": "stream",
     "text": [
      "[27 64  8  1]\n"
     ]
    }
   ],
   "source": [
    "arr1= np.array([3,4,2,1])\n",
    "arr2 =np.array([3])\n",
    "print(np.power(arr1,arr2))\n",
    "               "
   ]
  },
  {
   "cell_type": "code",
   "execution_count": 38,
   "id": "c5663c59-df54-4a6d-97a0-623c7945db66",
   "metadata": {},
   "outputs": [
    {
     "name": "stdout",
     "output_type": "stream",
     "text": [
      "[5.19615242 8.         2.82842712 1.        ]\n"
     ]
    }
   ],
   "source": [
    "arr3 = np.array([27, 64 , 8 , 1])\n",
    "print(np.sqrt(arr3))"
   ]
  },
  {
   "cell_type": "code",
   "execution_count": 3,
   "id": "25b9b324-37cc-4bb5-912d-d6fa2d9f944f",
   "metadata": {},
   "outputs": [
    {
     "name": "stdout",
     "output_type": "stream",
     "text": [
      "[[30 40 30 20]\n",
      " [60 10 10 20]]\n"
     ]
    }
   ],
   "source": [
    "import numpy as np\n",
    "arr = np.array([[30,40],[60,10]])\n",
    "arr1 = np.array([[30,20],[10,20]])\n",
    "print(np.concatenate([arr,arr1],axis=1))"
   ]
  },
  {
   "cell_type": "code",
   "execution_count": 6,
   "id": "d6ca0fb3-13fa-4ebf-9aaa-7fa8931d28c0",
   "metadata": {},
   "outputs": [
    {
     "name": "stdout",
     "output_type": "stream",
     "text": [
      "[array([20, 40]), array([10]), array([30]), array([20])]\n"
     ]
    }
   ],
   "source": [
    "a=np.array([20,40,10,30,20])\n",
    "b= np.array_split(a,4)\n",
    "print(b)"
   ]
  },
  {
   "cell_type": "code",
   "execution_count": 7,
   "id": "c007cf98-af97-4a7e-8051-4c73ab069260",
   "metadata": {},
   "outputs": [
    {
     "name": "stdout",
     "output_type": "stream",
     "text": [
      "[20 40 10 30 20 90]\n"
     ]
    }
   ],
   "source": [
    "a=np.array([20,40,10,30,20])\n",
    "print(np.append(a,90))"
   ]
  },
  {
   "cell_type": "code",
   "execution_count": 8,
   "id": "b05371ef-1a90-4205-8de6-48c22cf63288",
   "metadata": {},
   "outputs": [
    {
     "name": "stdout",
     "output_type": "stream",
     "text": [
      "[20 50 40 10 30 20]\n"
     ]
    }
   ],
   "source": [
    "print(np.insert(a,1,50))"
   ]
  },
  {
   "cell_type": "code",
   "execution_count": 9,
   "id": "6cd87584-71cb-49cb-81f1-6f285ee5402a",
   "metadata": {},
   "outputs": [
    {
     "name": "stdout",
     "output_type": "stream",
     "text": [
      "[20 10 30 20]\n"
     ]
    }
   ],
   "source": [
    "print(np.delete(a,1))"
   ]
  }
 ],
 "metadata": {
  "kernelspec": {
   "display_name": "Python 3 (ipykernel)",
   "language": "python",
   "name": "python3"
  },
  "language_info": {
   "codemirror_mode": {
    "name": "ipython",
    "version": 3
   },
   "file_extension": ".py",
   "mimetype": "text/x-python",
   "name": "python",
   "nbconvert_exporter": "python",
   "pygments_lexer": "ipython3",
   "version": "3.12.6"
  }
 },
 "nbformat": 4,
 "nbformat_minor": 5
}
